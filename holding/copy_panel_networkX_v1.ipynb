{
 "cells": [
  {
   "cell_type": "code",
   "execution_count": null,
   "id": "ee66e631",
   "metadata": {},
   "outputs": [],
   "source": []
  },
  {
   "cell_type": "code",
   "execution_count": null,
   "id": "dff5ba8e",
   "metadata": {},
   "outputs": [],
   "source": []
  },
  {
   "cell_type": "code",
   "execution_count": null,
   "id": "7011815e",
   "metadata": {},
   "outputs": [],
   "source": [
    "%matplotlib inline\n",
    "\n",
    "import numpy as np\n",
    "import pandas as pd\n",
    "\n",
    "import matplotlib.pyplot as plt\n",
    "import seaborn as sns\n",
    "\n",
    "import networkx as nx\n",
    "\n",
    "import panel as pn\n",
    "pn.extension()"
   ]
  },
  {
   "cell_type": "code",
   "execution_count": null,
   "id": "dc496566",
   "metadata": {},
   "outputs": [],
   "source": [
    "import hvplot\n",
    "import hvplot.networkx as hvnx"
   ]
  },
  {
   "cell_type": "code",
   "execution_count": null,
   "id": "7e6f7041",
   "metadata": {},
   "outputs": [],
   "source": [
    "def viz5(pts=10):\n",
    "    plt.figure(figsize=(3,3))\n",
    "    g_data = np.random.normal(100, 25, pts)\n",
    "    ax = sns.histplot(g_data)\n",
    "    plt.close()\n",
    "    return ax.figure"
   ]
  },
  {
   "cell_type": "code",
   "execution_count": null,
   "id": "9562fd89",
   "metadata": {},
   "outputs": [],
   "source": [
    "#viz5(5000)"
   ]
  },
  {
   "cell_type": "code",
   "execution_count": null,
   "id": "31683b6d",
   "metadata": {},
   "outputs": [],
   "source": [
    "def viz8(pts=10):\n",
    "    \n",
    "    G = nx.Graph()\n",
    "    #G = hvnx.Graph()\n",
    "    G.add_edges_from([('A','B'),('A','C'),('D','B'),('D','A')])\n",
    "    \n",
    "    #return nx.draw(G)\n",
    "    #return G.figure\n",
    "    return hvnx.draw(G)"
   ]
  },
  {
   "cell_type": "code",
   "execution_count": null,
   "id": "37299cb5",
   "metadata": {},
   "outputs": [],
   "source": [
    "# viz8(10)"
   ]
  },
  {
   "cell_type": "code",
   "execution_count": null,
   "id": "31216dae",
   "metadata": {},
   "outputs": [],
   "source": [
    "points = pn.widgets.IntSlider(name='points', value=100, start=0, end=1000)\n",
    "#interactive = pn.bind(viz5, pts=points)\n",
    "interactive = pn.bind(viz8, pts=points)"
   ]
  },
  {
   "cell_type": "code",
   "execution_count": null,
   "id": "a26fd164",
   "metadata": {},
   "outputs": [],
   "source": [
    "first_app = pn.Column(points, interactive, align=\"center\")\n",
    "first_app"
   ]
  },
  {
   "cell_type": "code",
   "execution_count": null,
   "id": "bc95d01e",
   "metadata": {},
   "outputs": [],
   "source": [
    "first_app.show()"
   ]
  },
  {
   "cell_type": "code",
   "execution_count": null,
   "id": "2dd14793",
   "metadata": {},
   "outputs": [],
   "source": []
  }
 ],
 "metadata": {
  "kernelspec": {
   "display_name": "Python 3 (ipykernel)",
   "language": "python",
   "name": "python3"
  },
  "language_info": {
   "codemirror_mode": {
    "name": "ipython",
    "version": 3
   },
   "file_extension": ".py",
   "mimetype": "text/x-python",
   "name": "python",
   "nbconvert_exporter": "python",
   "pygments_lexer": "ipython3",
   "version": "3.10.4"
  }
 },
 "nbformat": 4,
 "nbformat_minor": 5
}

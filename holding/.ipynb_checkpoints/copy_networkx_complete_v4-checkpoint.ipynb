{
 "cells": [
  {
   "cell_type": "code",
   "execution_count": null,
   "metadata": {},
   "outputs": [],
   "source": []
  },
  {
   "cell_type": "code",
   "execution_count": null,
   "metadata": {},
   "outputs": [],
   "source": [
    "%matplotlib inline\n",
    "\n",
    "import numpy as np\n",
    "import pandas as pd\n",
    "\n",
    "import matplotlib.pyplot as plt\n",
    "\n",
    "import networkx as nx\n",
    "\n",
    "from random import randrange"
   ]
  },
  {
   "cell_type": "code",
   "execution_count": null,
   "metadata": {},
   "outputs": [],
   "source": [
    "g = nx.complete_graph(15)\n",
    "\n",
    "pos = nx.circular_layout(g)\n",
    "\n",
    "plt.figure(figsize=(5,5))\n",
    "\n",
    "# nx.draw(g, pos, with_labels=True)\n",
    "nx.draw(g, pos, node_size=1000,node_color=\"skyblue\", with_labels=True)"
   ]
  },
  {
   "cell_type": "markdown",
   "metadata": {},
   "source": [
    "### Y. Remove links"
   ]
  },
  {
   "cell_type": "code",
   "execution_count": null,
   "metadata": {},
   "outputs": [],
   "source": [
    "g = nx.complete_graph(15)\n",
    "cnt_rm_nodes = 75\n",
    "\n",
    "for i in range(0,cnt_rm_nodes):\n",
    "    ls_edges = list(g.edges)\n",
    "    rand_edge = randrange(len(ls_edges))\n",
    "    g.remove_edge(ls_edges[rand_edge][0], ls_edges[rand_edge][1])"
   ]
  },
  {
   "cell_type": "code",
   "execution_count": null,
   "metadata": {},
   "outputs": [],
   "source": [
    "pos = nx.circular_layout(g)\n",
    "\n",
    "plt.figure(figsize=(5,5))\n",
    "#nx.draw(g, pos, with_labels=True)\n",
    "\n",
    "nx.draw(g, pos, node_size=1000,node_color=\"skyblue\", with_labels=True)"
   ]
  },
  {
   "cell_type": "markdown",
   "metadata": {},
   "source": [
    "### Y. Experiment with layouts"
   ]
  },
  {
   "cell_type": "code",
   "execution_count": null,
   "metadata": {},
   "outputs": [],
   "source": [
    "# https://networkx.org/documentation/stable/reference/generated/networkx.drawing.layout.spring_layout.html"
   ]
  },
  {
   "cell_type": "code",
   "execution_count": null,
   "metadata": {
    "scrolled": false
   },
   "outputs": [],
   "source": [
    "plt.figure(figsize=(7,7))\n",
    "\n",
    "pos = nx.circular_layout(g)\n",
    "plt.title(\"circular\")\n",
    "\n",
    "#pos = nx.fruchterman_reingold_layout(g)\n",
    "#plt.title(\"fruchterman_reingold\")\n",
    "\n",
    "#pos = nx.random_layout(g)\n",
    "#plt.title(\"random\")\n",
    "\n",
    "#pos = nx.spectral_layout(g)\n",
    "#plt.title(\"spectral\")\n",
    "\n",
    "#pos = nx.spring_layout(g)\n",
    "#plt.title(\"spring\")\n",
    "\n",
    "#pos = nx.spring_layout(g, iterations=1000)\n",
    "#plt.title(\"spring\")\n",
    "\n",
    "#pos = nx.planar_layout(g) # error on this graph\n",
    "#plt.title(\"planar\")\n",
    "\n",
    "#pos = nx.shell_layout(g)\n",
    "#plt.title(\"shell\")\n",
    "\n",
    "#pos = nx.kamada_kawai_layout(g)\n",
    "#plt.title(\"kamada_kawai_layout\")\n",
    "\n",
    "\n",
    "nx.draw(g, pos, node_size=1000,node_color=\"skyblue\", with_labels=True)"
   ]
  },
  {
   "cell_type": "markdown",
   "metadata": {},
   "source": [
    "### Y. Node size by node-degree"
   ]
  },
  {
   "cell_type": "code",
   "execution_count": null,
   "metadata": {},
   "outputs": [],
   "source": [
    "d = dict(g.degree)\n",
    "d"
   ]
  },
  {
   "cell_type": "code",
   "execution_count": null,
   "metadata": {},
   "outputs": [],
   "source": [
    "plt.figure(figsize=(6,6))\n",
    "#plt.figure(figize=(6,8))\n",
    "\n",
    "nx.draw(g, pos=pos, node_size=[v * 200 for v in d.values()])\n",
    "\n",
    "#nx.draw(g, pos=pos, node_size=[np.sqrt(v) * 400 for v in d.values()])\n",
    "\n",
    "#nx.draw(g, pos=pos, node_size=[np.sqrt(v * 1000000) for v in d.values()])"
   ]
  },
  {
   "cell_type": "markdown",
   "metadata": {},
   "source": [
    "### Y. Older code below                        "
   ]
  },
  {
   "cell_type": "code",
   "execution_count": null,
   "metadata": {},
   "outputs": [],
   "source": [
    "for i in range(0,10):\n",
    "    print(randrange(10))"
   ]
  },
  {
   "cell_type": "code",
   "execution_count": null,
   "metadata": {},
   "outputs": [],
   "source": []
  },
  {
   "cell_type": "code",
   "execution_count": null,
   "metadata": {},
   "outputs": [],
   "source": [
    "ls_edges = list(g.edges)\n",
    "print(len(ls_edges))\n",
    "ls_edges[3]"
   ]
  },
  {
   "cell_type": "code",
   "execution_count": null,
   "metadata": {},
   "outputs": [],
   "source": [
    "g.remove_edge(ls_edges[3][0], ls_edges[3][1])"
   ]
  },
  {
   "cell_type": "code",
   "execution_count": null,
   "metadata": {},
   "outputs": [],
   "source": [
    "ls_edges = list(g.edges)\n",
    "ls_edges[3]"
   ]
  },
  {
   "cell_type": "markdown",
   "metadata": {},
   "source": [
    "### Y. Older code below"
   ]
  },
  {
   "cell_type": "code",
   "execution_count": null,
   "metadata": {},
   "outputs": [],
   "source": [
    "#plt.figure(figsize=(5,5))\n",
    "#nx.draw(g)"
   ]
  },
  {
   "cell_type": "code",
   "execution_count": null,
   "metadata": {},
   "outputs": [],
   "source": [
    "# pos = nx.circular_layout(g)"
   ]
  },
  {
   "cell_type": "code",
   "execution_count": null,
   "metadata": {
    "scrolled": false
   },
   "outputs": [],
   "source": [
    "plt.figure(figsize=(5,5))\n",
    "nx.draw(g, pos)"
   ]
  },
  {
   "cell_type": "code",
   "execution_count": null,
   "metadata": {},
   "outputs": [],
   "source": [
    "ls_nodes = list(g.nodes)\n",
    "ls_nodes"
   ]
  },
  {
   "cell_type": "code",
   "execution_count": null,
   "metadata": {},
   "outputs": [],
   "source": [
    "ls_edges = list(g.edges)\n",
    "# ls_edges"
   ]
  },
  {
   "cell_type": "code",
   "execution_count": null,
   "metadata": {},
   "outputs": [],
   "source": [
    "g.has_edge(0,1)\n",
    "#g.has_edge(0,0)"
   ]
  },
  {
   "cell_type": "code",
   "execution_count": null,
   "metadata": {},
   "outputs": [],
   "source": [
    "#g.remove_edge(0,1)\n",
    "#g.remove_edge(0,2)\n",
    "g.remove_edge(0,14)"
   ]
  },
  {
   "cell_type": "code",
   "execution_count": null,
   "metadata": {},
   "outputs": [],
   "source": [
    "nx.draw(g, pos, with_labels=True)"
   ]
  },
  {
   "cell_type": "code",
   "execution_count": null,
   "metadata": {},
   "outputs": [],
   "source": []
  },
  {
   "cell_type": "code",
   "execution_count": null,
   "metadata": {},
   "outputs": [],
   "source": []
  }
 ],
 "metadata": {
  "kernelspec": {
   "display_name": "Python 3",
   "language": "python",
   "name": "python3"
  },
  "language_info": {
   "codemirror_mode": {
    "name": "ipython",
    "version": 3
   },
   "file_extension": ".py",
   "mimetype": "text/x-python",
   "name": "python",
   "nbconvert_exporter": "python",
   "pygments_lexer": "ipython3",
   "version": "3.8.5"
  }
 },
 "nbformat": 4,
 "nbformat_minor": 5
}
